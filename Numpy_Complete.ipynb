{
 "cells": [
  {
   "cell_type": "code",
   "execution_count": 1,
   "id": "9f1c713c",
   "metadata": {},
   "outputs": [
    {
     "name": "stdout",
     "output_type": "stream",
     "text": [
      "Hello Numpy\n"
     ]
    }
   ],
   "source": [
    "print(\"Hello Numpy\")"
   ]
  },
  {
   "cell_type": "code",
   "execution_count": 2,
   "id": "ff1a51b8",
   "metadata": {},
   "outputs": [],
   "source": [
    "import numpy as np\n",
    "import time\n",
    "import sys"
   ]
  },
  {
   "cell_type": "code",
   "execution_count": 98,
   "id": "beb59a0e",
   "metadata": {},
   "outputs": [
    {
     "name": "stdout",
     "output_type": "stream",
     "text": [
      "280000\n"
     ]
    }
   ],
   "source": [
    "l=range(10000)\n",
    "print(sys.getsizeof(5)*len(l))"
   ]
  },
  {
   "cell_type": "code",
   "execution_count": 42,
   "id": "23f61f56",
   "metadata": {},
   "outputs": [
    {
     "name": "stdout",
     "output_type": "stream",
     "text": [
      "40000\n"
     ]
    }
   ],
   "source": [
    "array = np.arange(10000)\n",
    "print(array.size*array.itemsize)"
   ]
  },
  {
   "cell_type": "markdown",
   "id": "a8155e69",
   "metadata": {},
   "source": [
    "# Get Started With Array..."
   ]
  },
  {
   "cell_type": "code",
   "execution_count": 7,
   "id": "258f3f0f",
   "metadata": {},
   "outputs": [],
   "source": [
    "a=np.array([3,1,2])"
   ]
  },
  {
   "cell_type": "code",
   "execution_count": 8,
   "id": "30da103e",
   "metadata": {},
   "outputs": [
    {
     "data": {
      "text/plain": [
       "1"
      ]
     },
     "execution_count": 8,
     "metadata": {},
     "output_type": "execute_result"
    }
   ],
   "source": [
    "a.ndim"
   ]
  },
  {
   "cell_type": "code",
   "execution_count": 9,
   "id": "6f556a43",
   "metadata": {},
   "outputs": [
    {
     "data": {
      "text/plain": [
       "array([3, 1, 2])"
      ]
     },
     "execution_count": 9,
     "metadata": {},
     "output_type": "execute_result"
    }
   ],
   "source": [
    "a"
   ]
  },
  {
   "cell_type": "code",
   "execution_count": 10,
   "id": "19f3c3b3",
   "metadata": {},
   "outputs": [],
   "source": [
    "b=np.array([[1,2,3],[4,5,6]])"
   ]
  },
  {
   "cell_type": "code",
   "execution_count": 11,
   "id": "d7a95c1d",
   "metadata": {},
   "outputs": [
    {
     "data": {
      "text/plain": [
       "2"
      ]
     },
     "execution_count": 11,
     "metadata": {},
     "output_type": "execute_result"
    }
   ],
   "source": [
    "b.ndim"
   ]
  },
  {
   "cell_type": "code",
   "execution_count": 12,
   "id": "0f96e2b6",
   "metadata": {},
   "outputs": [
    {
     "data": {
      "text/plain": [
       "array([[1, 2, 3],\n",
       "       [4, 5, 6]])"
      ]
     },
     "execution_count": 12,
     "metadata": {},
     "output_type": "execute_result"
    }
   ],
   "source": [
    "b"
   ]
  },
  {
   "cell_type": "code",
   "execution_count": 13,
   "id": "7c972614",
   "metadata": {},
   "outputs": [
    {
     "data": {
      "text/plain": [
       "array([3, 1, 2])"
      ]
     },
     "execution_count": 13,
     "metadata": {},
     "output_type": "execute_result"
    }
   ],
   "source": [
    "a"
   ]
  },
  {
   "cell_type": "code",
   "execution_count": 14,
   "id": "0cda0896",
   "metadata": {},
   "outputs": [
    {
     "data": {
      "text/plain": [
       "4"
      ]
     },
     "execution_count": 14,
     "metadata": {},
     "output_type": "execute_result"
    }
   ],
   "source": [
    "a.itemsize"
   ]
  },
  {
   "cell_type": "code",
   "execution_count": 15,
   "id": "20625978",
   "metadata": {},
   "outputs": [
    {
     "data": {
      "text/plain": [
       "array([[1, 2, 3],\n",
       "       [4, 5, 6]])"
      ]
     },
     "execution_count": 15,
     "metadata": {},
     "output_type": "execute_result"
    }
   ],
   "source": [
    "b"
   ]
  },
  {
   "cell_type": "code",
   "execution_count": 16,
   "id": "68579a36",
   "metadata": {},
   "outputs": [
    {
     "data": {
      "text/plain": [
       "4"
      ]
     },
     "execution_count": 16,
     "metadata": {},
     "output_type": "execute_result"
    }
   ],
   "source": [
    "b.itemsize"
   ]
  },
  {
   "cell_type": "code",
   "execution_count": 17,
   "id": "c864f88f",
   "metadata": {},
   "outputs": [
    {
     "data": {
      "text/plain": [
       "dtype('int32')"
      ]
     },
     "execution_count": 17,
     "metadata": {},
     "output_type": "execute_result"
    }
   ],
   "source": [
    "b.dtype"
   ]
  },
  {
   "cell_type": "code",
   "execution_count": 18,
   "id": "ef66ba18",
   "metadata": {},
   "outputs": [
    {
     "data": {
      "text/plain": [
       "dtype('int32')"
      ]
     },
     "execution_count": 18,
     "metadata": {},
     "output_type": "execute_result"
    }
   ],
   "source": [
    "a.dtype"
   ]
  },
  {
   "cell_type": "markdown",
   "id": "2c42e0a6",
   "metadata": {},
   "source": [
    "# change the data type of an array"
   ]
  },
  {
   "cell_type": "code",
   "execution_count": 19,
   "id": "3ce94a98",
   "metadata": {},
   "outputs": [
    {
     "data": {
      "text/plain": [
       "array([[1, 2, 3],\n",
       "       [4, 5, 6]])"
      ]
     },
     "execution_count": 19,
     "metadata": {},
     "output_type": "execute_result"
    }
   ],
   "source": [
    "b"
   ]
  },
  {
   "cell_type": "code",
   "execution_count": 21,
   "id": "328905e2",
   "metadata": {},
   "outputs": [],
   "source": [
    "b=np.array([[1,2,3],[4,5,6]], dtype=np.float64)"
   ]
  },
  {
   "cell_type": "code",
   "execution_count": 23,
   "id": "d47d244e",
   "metadata": {},
   "outputs": [
    {
     "data": {
      "text/plain": [
       "array([[1., 2., 3.],\n",
       "       [4., 5., 6.]])"
      ]
     },
     "execution_count": 23,
     "metadata": {},
     "output_type": "execute_result"
    }
   ],
   "source": [
    "b"
   ]
  },
  {
   "cell_type": "code",
   "execution_count": 24,
   "id": "1994e7de",
   "metadata": {},
   "outputs": [
    {
     "data": {
      "text/plain": [
       "dtype('float64')"
      ]
     },
     "execution_count": 24,
     "metadata": {},
     "output_type": "execute_result"
    }
   ],
   "source": [
    "b.dtype"
   ]
  },
  {
   "cell_type": "code",
   "execution_count": 25,
   "id": "0df524af",
   "metadata": {},
   "outputs": [
    {
     "data": {
      "text/plain": [
       "8"
      ]
     },
     "execution_count": 25,
     "metadata": {},
     "output_type": "execute_result"
    }
   ],
   "source": [
    "b.itemsize"
   ]
  },
  {
   "cell_type": "code",
   "execution_count": 26,
   "id": "38e96249",
   "metadata": {},
   "outputs": [
    {
     "data": {
      "text/plain": [
       "6"
      ]
     },
     "execution_count": 26,
     "metadata": {},
     "output_type": "execute_result"
    }
   ],
   "source": [
    "b.size"
   ]
  },
  {
   "cell_type": "code",
   "execution_count": 27,
   "id": "97c77579",
   "metadata": {},
   "outputs": [
    {
     "data": {
      "text/plain": [
       "(2, 3)"
      ]
     },
     "execution_count": 27,
     "metadata": {},
     "output_type": "execute_result"
    }
   ],
   "source": [
    "b.shape"
   ]
  },
  {
   "cell_type": "code",
   "execution_count": 28,
   "id": "10704bba",
   "metadata": {},
   "outputs": [
    {
     "data": {
      "text/plain": [
       "array([[1., 2., 3.],\n",
       "       [4., 5., 6.]])"
      ]
     },
     "execution_count": 28,
     "metadata": {},
     "output_type": "execute_result"
    }
   ],
   "source": [
    "b"
   ]
  },
  {
   "cell_type": "code",
   "execution_count": 29,
   "id": "64427284",
   "metadata": {},
   "outputs": [],
   "source": [
    "b=np.array([[1,2,3],[4,5,6]], dtype=np.complex)"
   ]
  },
  {
   "cell_type": "code",
   "execution_count": 30,
   "id": "99e61236",
   "metadata": {},
   "outputs": [
    {
     "data": {
      "text/plain": [
       "array([[1.+0.j, 2.+0.j, 3.+0.j],\n",
       "       [4.+0.j, 5.+0.j, 6.+0.j]])"
      ]
     },
     "execution_count": 30,
     "metadata": {},
     "output_type": "execute_result"
    }
   ],
   "source": [
    "b"
   ]
  },
  {
   "cell_type": "code",
   "execution_count": 31,
   "id": "09b45d8d",
   "metadata": {},
   "outputs": [],
   "source": [
    "r=np.array([[1,3,2],[4,3,2]])"
   ]
  },
  {
   "cell_type": "code",
   "execution_count": 32,
   "id": "cfe59007",
   "metadata": {},
   "outputs": [
    {
     "data": {
      "text/plain": [
       "array([[1, 3, 2],\n",
       "       [4, 3, 2]])"
      ]
     },
     "execution_count": 32,
     "metadata": {},
     "output_type": "execute_result"
    }
   ],
   "source": [
    "r"
   ]
  },
  {
   "cell_type": "code",
   "execution_count": 33,
   "id": "95f793b9",
   "metadata": {},
   "outputs": [],
   "source": [
    "r=np.array([[1,3,2],[4,3,2]], dtype=complex)"
   ]
  },
  {
   "cell_type": "code",
   "execution_count": 35,
   "id": "cda25647",
   "metadata": {},
   "outputs": [
    {
     "data": {
      "text/plain": [
       "array([[1.+0.j, 3.+0.j, 2.+0.j],\n",
       "       [4.+0.j, 3.+0.j, 2.+0.j]])"
      ]
     },
     "execution_count": 35,
     "metadata": {},
     "output_type": "execute_result"
    }
   ],
   "source": [
    "\n",
    "\n",
    "r"
   ]
  },
  {
   "cell_type": "markdown",
   "id": "5f5ba114",
   "metadata": {},
   "source": [
    "# Creating Numpy Array Using Just Dimensions"
   ]
  },
  {
   "cell_type": "code",
   "execution_count": 36,
   "id": "d83544c1",
   "metadata": {},
   "outputs": [
    {
     "data": {
      "text/plain": [
       "array([[0., 0.],\n",
       "       [0., 0.],\n",
       "       [0., 0.],\n",
       "       [0., 0.]])"
      ]
     },
     "execution_count": 36,
     "metadata": {},
     "output_type": "execute_result"
    }
   ],
   "source": [
    "np.zeros((4,2))"
   ]
  },
  {
   "cell_type": "code",
   "execution_count": 37,
   "id": "aa073833",
   "metadata": {},
   "outputs": [
    {
     "data": {
      "text/plain": [
       "array([[1., 1., 1., 1., 1., 1., 1., 1., 1.],\n",
       "       [1., 1., 1., 1., 1., 1., 1., 1., 1.],\n",
       "       [1., 1., 1., 1., 1., 1., 1., 1., 1.],\n",
       "       [1., 1., 1., 1., 1., 1., 1., 1., 1.],\n",
       "       [1., 1., 1., 1., 1., 1., 1., 1., 1.]])"
      ]
     },
     "execution_count": 37,
     "metadata": {},
     "output_type": "execute_result"
    }
   ],
   "source": [
    "np.ones((5,9))"
   ]
  },
  {
   "cell_type": "markdown",
   "id": "5ba0c8f6",
   "metadata": {},
   "source": [
    "# Functions in Numpy"
   ]
  },
  {
   "cell_type": "code",
   "execution_count": 38,
   "id": "32a8d0a6",
   "metadata": {},
   "outputs": [],
   "source": [
    "l=range(10)"
   ]
  },
  {
   "cell_type": "code",
   "execution_count": 39,
   "id": "03ec4503",
   "metadata": {},
   "outputs": [
    {
     "data": {
      "text/plain": [
       "range(0, 10)"
      ]
     },
     "execution_count": 39,
     "metadata": {},
     "output_type": "execute_result"
    }
   ],
   "source": [
    "l"
   ]
  },
  {
   "cell_type": "code",
   "execution_count": 41,
   "id": "489cf55f",
   "metadata": {},
   "outputs": [
    {
     "data": {
      "text/plain": [
       "array([1, 2, 3, 4, 5, 6, 7, 8, 9])"
      ]
     },
     "execution_count": 41,
     "metadata": {},
     "output_type": "execute_result"
    }
   ],
   "source": [
    "np.arange(1,10)"
   ]
  },
  {
   "cell_type": "code",
   "execution_count": 44,
   "id": "e4fda861",
   "metadata": {},
   "outputs": [
    {
     "data": {
      "text/plain": [
       "array([1, 4, 7])"
      ]
     },
     "execution_count": 44,
     "metadata": {},
     "output_type": "execute_result"
    }
   ],
   "source": [
    "np.arange(1,10,3)"
   ]
  },
  {
   "cell_type": "code",
   "execution_count": 46,
   "id": "61e8b19d",
   "metadata": {},
   "outputs": [
    {
     "data": {
      "text/plain": [
       "array([1.        , 1.44444444, 1.88888889, 2.33333333, 2.77777778,\n",
       "       3.22222222, 3.66666667, 4.11111111, 4.55555556, 5.        ])"
      ]
     },
     "execution_count": 46,
     "metadata": {},
     "output_type": "execute_result"
    }
   ],
   "source": [
    "np.linspace(1,5,10)"
   ]
  },
  {
   "cell_type": "code",
   "execution_count": 47,
   "id": "8156649f",
   "metadata": {},
   "outputs": [
    {
     "data": {
      "text/plain": [
       "array([1.        , 1.21052632, 1.42105263, 1.63157895, 1.84210526,\n",
       "       2.05263158, 2.26315789, 2.47368421, 2.68421053, 2.89473684,\n",
       "       3.10526316, 3.31578947, 3.52631579, 3.73684211, 3.94736842,\n",
       "       4.15789474, 4.36842105, 4.57894737, 4.78947368, 5.        ])"
      ]
     },
     "execution_count": 47,
     "metadata": {},
     "output_type": "execute_result"
    }
   ],
   "source": [
    "np.linspace(1,5,20)"
   ]
  },
  {
   "cell_type": "code",
   "execution_count": 52,
   "id": "32df36e0",
   "metadata": {},
   "outputs": [],
   "source": [
    "t=np.array([[1,2,3],[3,4,5],[3,4,5],[1,3,2]])"
   ]
  },
  {
   "cell_type": "code",
   "execution_count": 53,
   "id": "a4765dbf",
   "metadata": {},
   "outputs": [
    {
     "data": {
      "text/plain": [
       "(4, 3)"
      ]
     },
     "execution_count": 53,
     "metadata": {},
     "output_type": "execute_result"
    }
   ],
   "source": [
    "t.shape"
   ]
  },
  {
   "cell_type": "code",
   "execution_count": 54,
   "id": "97e55263",
   "metadata": {},
   "outputs": [
    {
     "data": {
      "text/plain": [
       "array([[1, 2, 3, 3],\n",
       "       [4, 5, 3, 4],\n",
       "       [5, 1, 3, 2]])"
      ]
     },
     "execution_count": 54,
     "metadata": {},
     "output_type": "execute_result"
    }
   ],
   "source": [
    "t.reshape(3,4)"
   ]
  },
  {
   "cell_type": "code",
   "execution_count": 59,
   "id": "256ae81e",
   "metadata": {},
   "outputs": [
    {
     "data": {
      "text/plain": [
       "array([1, 2, 3, 3, 4, 5, 3, 4, 5, 1, 3, 2])"
      ]
     },
     "execution_count": 59,
     "metadata": {},
     "output_type": "execute_result"
    }
   ],
   "source": [
    "t.ravel()"
   ]
  },
  {
   "cell_type": "code",
   "execution_count": 60,
   "id": "d6a30a31",
   "metadata": {},
   "outputs": [
    {
     "data": {
      "text/plain": [
       "array([[1, 2, 3],\n",
       "       [3, 4, 5],\n",
       "       [3, 4, 5],\n",
       "       [1, 3, 2]])"
      ]
     },
     "execution_count": 60,
     "metadata": {},
     "output_type": "execute_result"
    }
   ],
   "source": [
    "t"
   ]
  },
  {
   "cell_type": "markdown",
   "id": "02017c11",
   "metadata": {},
   "source": [
    "# Mathematical Functions In Numpy"
   ]
  },
  {
   "cell_type": "code",
   "execution_count": 61,
   "id": "c7aefbdc",
   "metadata": {},
   "outputs": [
    {
     "data": {
      "text/plain": [
       "1"
      ]
     },
     "execution_count": 61,
     "metadata": {},
     "output_type": "execute_result"
    }
   ],
   "source": [
    "x=np.array([[1,2,3],[3,5,4]])\n",
    "y=np.array([[1,2,3],[1,2,3]])\n",
    "x.min()"
   ]
  },
  {
   "cell_type": "code",
   "execution_count": 62,
   "id": "603b18f5",
   "metadata": {},
   "outputs": [
    {
     "data": {
      "text/plain": [
       "1"
      ]
     },
     "execution_count": 62,
     "metadata": {},
     "output_type": "execute_result"
    }
   ],
   "source": [
    "y.min()"
   ]
  },
  {
   "cell_type": "code",
   "execution_count": 63,
   "id": "c244ac2f",
   "metadata": {},
   "outputs": [
    {
     "data": {
      "text/plain": [
       "5"
      ]
     },
     "execution_count": 63,
     "metadata": {},
     "output_type": "execute_result"
    }
   ],
   "source": [
    "x.max()"
   ]
  },
  {
   "cell_type": "code",
   "execution_count": 64,
   "id": "d2c199a8",
   "metadata": {},
   "outputs": [
    {
     "data": {
      "text/plain": [
       "3"
      ]
     },
     "execution_count": 64,
     "metadata": {},
     "output_type": "execute_result"
    }
   ],
   "source": [
    "y.max()"
   ]
  },
  {
   "cell_type": "code",
   "execution_count": 67,
   "id": "55480ebe",
   "metadata": {},
   "outputs": [
    {
     "data": {
      "text/plain": [
       "array([4, 7, 7])"
      ]
     },
     "execution_count": 67,
     "metadata": {},
     "output_type": "execute_result"
    }
   ],
   "source": [
    "x.sum(axis=0)"
   ]
  },
  {
   "cell_type": "code",
   "execution_count": 68,
   "id": "752a610f",
   "metadata": {},
   "outputs": [
    {
     "data": {
      "text/plain": [
       "array([6, 6])"
      ]
     },
     "execution_count": 68,
     "metadata": {},
     "output_type": "execute_result"
    }
   ],
   "source": [
    "y.sum(axis=1)"
   ]
  },
  {
   "cell_type": "code",
   "execution_count": 70,
   "id": "66fc4ce4",
   "metadata": {},
   "outputs": [],
   "source": [
    "# y.sum(x)"
   ]
  },
  {
   "cell_type": "code",
   "execution_count": 72,
   "id": "49facb61",
   "metadata": {},
   "outputs": [
    {
     "data": {
      "text/plain": [
       "array([[1, 2, 3],\n",
       "       [3, 5, 4]])"
      ]
     },
     "execution_count": 72,
     "metadata": {},
     "output_type": "execute_result"
    }
   ],
   "source": [
    "x"
   ]
  },
  {
   "cell_type": "code",
   "execution_count": 76,
   "id": "22edf16a",
   "metadata": {},
   "outputs": [],
   "source": [
    "# y.sqrt()\n"
   ]
  },
  {
   "cell_type": "code",
   "execution_count": 77,
   "id": "b7c08a2c",
   "metadata": {},
   "outputs": [],
   "source": [
    "A=np.array([[1,2,3],[3,4,5]])"
   ]
  },
  {
   "cell_type": "code",
   "execution_count": 78,
   "id": "bfe74a6b",
   "metadata": {},
   "outputs": [
    {
     "data": {
      "text/plain": [
       "array([[1, 2, 3],\n",
       "       [3, 4, 5]])"
      ]
     },
     "execution_count": 78,
     "metadata": {},
     "output_type": "execute_result"
    }
   ],
   "source": [
    "A"
   ]
  },
  {
   "cell_type": "code",
   "execution_count": 82,
   "id": "383ca2f7",
   "metadata": {},
   "outputs": [
    {
     "data": {
      "text/plain": [
       "array([[1.        , 1.41421356, 1.73205081],\n",
       "       [1.73205081, 2.        , 2.23606798]])"
      ]
     },
     "execution_count": 82,
     "metadata": {},
     "output_type": "execute_result"
    }
   ],
   "source": [
    "np.sqrt(A)"
   ]
  },
  {
   "cell_type": "code",
   "execution_count": 83,
   "id": "1b5f5a92",
   "metadata": {},
   "outputs": [
    {
     "data": {
      "text/plain": [
       "array([[1, 2, 3],\n",
       "       [3, 5, 4]])"
      ]
     },
     "execution_count": 83,
     "metadata": {},
     "output_type": "execute_result"
    }
   ],
   "source": [
    "x"
   ]
  },
  {
   "cell_type": "code",
   "execution_count": 84,
   "id": "9df84067",
   "metadata": {},
   "outputs": [
    {
     "data": {
      "text/plain": [
       "array([[1, 2, 3],\n",
       "       [1, 2, 3]])"
      ]
     },
     "execution_count": 84,
     "metadata": {},
     "output_type": "execute_result"
    }
   ],
   "source": [
    "y"
   ]
  },
  {
   "cell_type": "code",
   "execution_count": 85,
   "id": "d1804339",
   "metadata": {},
   "outputs": [
    {
     "data": {
      "text/plain": [
       "array([[2, 4, 6],\n",
       "       [4, 7, 7]])"
      ]
     },
     "execution_count": 85,
     "metadata": {},
     "output_type": "execute_result"
    }
   ],
   "source": [
    "x+y"
   ]
  },
  {
   "cell_type": "code",
   "execution_count": 86,
   "id": "3485e7e6",
   "metadata": {},
   "outputs": [
    {
     "data": {
      "text/plain": [
       "array([[0, 0, 0],\n",
       "       [2, 3, 1]])"
      ]
     },
     "execution_count": 86,
     "metadata": {},
     "output_type": "execute_result"
    }
   ],
   "source": [
    "x-y"
   ]
  },
  {
   "cell_type": "code",
   "execution_count": 87,
   "id": "7867fb2d",
   "metadata": {},
   "outputs": [
    {
     "data": {
      "text/plain": [
       "array([[ 1,  4,  9],\n",
       "       [ 3, 10, 12]])"
      ]
     },
     "execution_count": 87,
     "metadata": {},
     "output_type": "execute_result"
    }
   ],
   "source": [
    "x*y"
   ]
  },
  {
   "cell_type": "code",
   "execution_count": 88,
   "id": "76a530ee",
   "metadata": {},
   "outputs": [
    {
     "data": {
      "text/plain": [
       "array([[1.        , 1.        , 1.        ],\n",
       "       [3.        , 2.5       , 1.33333333]])"
      ]
     },
     "execution_count": 88,
     "metadata": {},
     "output_type": "execute_result"
    }
   ],
   "source": [
    "x/y"
   ]
  },
  {
   "cell_type": "code",
   "execution_count": 89,
   "id": "5b1eed4b",
   "metadata": {},
   "outputs": [
    {
     "data": {
      "text/plain": [
       "array([[1.        , 1.41421356, 1.73205081],\n",
       "       [1.73205081, 2.23606798, 2.        ]])"
      ]
     },
     "execution_count": 89,
     "metadata": {},
     "output_type": "execute_result"
    }
   ],
   "source": [
    "np.sqrt(x)"
   ]
  },
  {
   "cell_type": "code",
   "execution_count": 90,
   "id": "da773c35",
   "metadata": {},
   "outputs": [
    {
     "data": {
      "text/plain": [
       "array([[1.        , 1.41421356, 1.73205081],\n",
       "       [1.        , 1.41421356, 1.73205081]])"
      ]
     },
     "execution_count": 90,
     "metadata": {},
     "output_type": "execute_result"
    }
   ],
   "source": [
    "np.sqrt(y)"
   ]
  },
  {
   "cell_type": "code",
   "execution_count": 93,
   "id": "effc22e0",
   "metadata": {},
   "outputs": [],
   "source": [
    "# x.dot(y)"
   ]
  },
  {
   "cell_type": "code",
   "execution_count": 94,
   "id": "f306c247",
   "metadata": {},
   "outputs": [],
   "source": [
    "A=np.array([[1,2],[2,3]])\n",
    "B=np.array([[2,3],[4,5]])"
   ]
  },
  {
   "cell_type": "code",
   "execution_count": 95,
   "id": "4d38dbf6",
   "metadata": {},
   "outputs": [
    {
     "data": {
      "text/plain": [
       "array([[10, 13],\n",
       "       [16, 21]])"
      ]
     },
     "execution_count": 95,
     "metadata": {},
     "output_type": "execute_result"
    }
   ],
   "source": [
    "A.dot(B)"
   ]
  },
  {
   "cell_type": "markdown",
   "id": "48267d84",
   "metadata": {},
   "source": [
    "# Numpy Array Slicing"
   ]
  },
  {
   "cell_type": "code",
   "execution_count": 99,
   "id": "6699f9e3",
   "metadata": {},
   "outputs": [],
   "source": [
    "d=np.array([1,2,3,4,5,6,7])"
   ]
  },
  {
   "cell_type": "code",
   "execution_count": 100,
   "id": "1e91b9e8",
   "metadata": {},
   "outputs": [
    {
     "data": {
      "text/plain": [
       "array([1, 2, 3])"
      ]
     },
     "execution_count": 100,
     "metadata": {},
     "output_type": "execute_result"
    }
   ],
   "source": [
    "d[0:3]"
   ]
  },
  {
   "cell_type": "code",
   "execution_count": 101,
   "id": "e9086a0e",
   "metadata": {},
   "outputs": [
    {
     "data": {
      "text/plain": [
       "7"
      ]
     },
     "execution_count": 101,
     "metadata": {},
     "output_type": "execute_result"
    }
   ],
   "source": [
    "d[-1]"
   ]
  },
  {
   "cell_type": "code",
   "execution_count": 102,
   "id": "d150de9c",
   "metadata": {},
   "outputs": [],
   "source": [
    "e=np.array([[1,2,3],[2,3,4],[1,2,3]])"
   ]
  },
  {
   "cell_type": "code",
   "execution_count": 103,
   "id": "00b84038",
   "metadata": {},
   "outputs": [
    {
     "data": {
      "text/plain": [
       "array([[1, 2, 3],\n",
       "       [2, 3, 4],\n",
       "       [1, 2, 3]])"
      ]
     },
     "execution_count": 103,
     "metadata": {},
     "output_type": "execute_result"
    }
   ],
   "source": [
    "e"
   ]
  },
  {
   "cell_type": "code",
   "execution_count": 105,
   "id": "8bb30cf3",
   "metadata": {},
   "outputs": [
    {
     "data": {
      "text/plain": [
       "4"
      ]
     },
     "execution_count": 105,
     "metadata": {},
     "output_type": "execute_result"
    }
   ],
   "source": [
    "e[1,2]"
   ]
  },
  {
   "cell_type": "code",
   "execution_count": 107,
   "id": "8139d891",
   "metadata": {},
   "outputs": [
    {
     "data": {
      "text/plain": [
       "array([3, 4, 3])"
      ]
     },
     "execution_count": 107,
     "metadata": {},
     "output_type": "execute_result"
    }
   ],
   "source": [
    "e[0:3, 2]"
   ]
  },
  {
   "cell_type": "code",
   "execution_count": 108,
   "id": "ef95fec9",
   "metadata": {},
   "outputs": [
    {
     "data": {
      "text/plain": [
       "array([1, 2, 1])"
      ]
     },
     "execution_count": 108,
     "metadata": {},
     "output_type": "execute_result"
    }
   ],
   "source": [
    "e[0:3,0]"
   ]
  },
  {
   "cell_type": "code",
   "execution_count": 109,
   "id": "65677e19",
   "metadata": {},
   "outputs": [
    {
     "data": {
      "text/plain": [
       "array([[1, 2, 3],\n",
       "       [2, 3, 4],\n",
       "       [1, 2, 3]])"
      ]
     },
     "execution_count": 109,
     "metadata": {},
     "output_type": "execute_result"
    }
   ],
   "source": [
    "e"
   ]
  },
  {
   "cell_type": "code",
   "execution_count": 110,
   "id": "c552660d",
   "metadata": {},
   "outputs": [
    {
     "data": {
      "text/plain": [
       "array([1, 2, 3])"
      ]
     },
     "execution_count": 110,
     "metadata": {},
     "output_type": "execute_result"
    }
   ],
   "source": [
    "e[-1]"
   ]
  },
  {
   "cell_type": "code",
   "execution_count": 111,
   "id": "153f7324",
   "metadata": {},
   "outputs": [
    {
     "data": {
      "text/plain": [
       "array([2, 3, 4])"
      ]
     },
     "execution_count": 111,
     "metadata": {},
     "output_type": "execute_result"
    }
   ],
   "source": [
    "e[-2]"
   ]
  },
  {
   "cell_type": "code",
   "execution_count": 112,
   "id": "04954ea5",
   "metadata": {},
   "outputs": [
    {
     "data": {
      "text/plain": [
       "array([1, 2])"
      ]
     },
     "execution_count": 112,
     "metadata": {},
     "output_type": "execute_result"
    }
   ],
   "source": [
    "e[-1,0:2]"
   ]
  },
  {
   "cell_type": "code",
   "execution_count": 116,
   "id": "780d3823",
   "metadata": {},
   "outputs": [
    {
     "data": {
      "text/plain": [
       "array([[2, 3],\n",
       "       [3, 4],\n",
       "       [2, 3]])"
      ]
     },
     "execution_count": 116,
     "metadata": {},
     "output_type": "execute_result"
    }
   ],
   "source": [
    "e[:,1:3]"
   ]
  },
  {
   "cell_type": "code",
   "execution_count": 117,
   "id": "df5d451d",
   "metadata": {},
   "outputs": [
    {
     "name": "stdout",
     "output_type": "stream",
     "text": [
      "[[1 2 3]\n",
      " [2 3 4]\n",
      " [1 2 3]]\n",
      "[[1 2 3]\n",
      " [2 3 4]\n",
      " [1 2 3]]\n",
      "[[1 2 3]\n",
      " [2 3 4]\n",
      " [1 2 3]]\n"
     ]
    }
   ],
   "source": [
    "for row in e:\n",
    "    print(e)"
   ]
  },
  {
   "cell_type": "code",
   "execution_count": 119,
   "id": "db5bac44",
   "metadata": {},
   "outputs": [
    {
     "name": "stdout",
     "output_type": "stream",
     "text": [
      "1\n",
      "2\n",
      "3\n",
      "2\n",
      "3\n",
      "4\n",
      "1\n",
      "2\n",
      "3\n"
     ]
    }
   ],
   "source": [
    "for cell in e.flat:\n",
    "    print(cell)"
   ]
  },
  {
   "cell_type": "markdown",
   "id": "559fcbae",
   "metadata": {},
   "source": [
    "# Stacking Numpy Arrays"
   ]
  },
  {
   "cell_type": "code",
   "execution_count": 126,
   "id": "ef7fd52c",
   "metadata": {},
   "outputs": [],
   "source": [
    "f=np.arange(6).reshape(3,2)\n",
    "g=np.arange(6,12).reshape(3,2)"
   ]
  },
  {
   "cell_type": "code",
   "execution_count": 123,
   "id": "371f94e8",
   "metadata": {},
   "outputs": [
    {
     "data": {
      "text/plain": [
       "array([[0, 1],\n",
       "       [2, 3],\n",
       "       [4, 5]])"
      ]
     },
     "execution_count": 123,
     "metadata": {},
     "output_type": "execute_result"
    }
   ],
   "source": [
    "f"
   ]
  },
  {
   "cell_type": "code",
   "execution_count": 127,
   "id": "8b70329a",
   "metadata": {},
   "outputs": [
    {
     "data": {
      "text/plain": [
       "array([[ 6,  7],\n",
       "       [ 8,  9],\n",
       "       [10, 11]])"
      ]
     },
     "execution_count": 127,
     "metadata": {},
     "output_type": "execute_result"
    }
   ],
   "source": [
    "g"
   ]
  },
  {
   "cell_type": "code",
   "execution_count": 131,
   "id": "f669f016",
   "metadata": {},
   "outputs": [
    {
     "data": {
      "text/plain": [
       "array([[ 0,  1],\n",
       "       [ 2,  3],\n",
       "       [ 4,  5],\n",
       "       [ 6,  7],\n",
       "       [ 8,  9],\n",
       "       [10, 11]])"
      ]
     },
     "execution_count": 131,
     "metadata": {},
     "output_type": "execute_result"
    }
   ],
   "source": [
    "np.vstack((f,g))"
   ]
  },
  {
   "cell_type": "code",
   "execution_count": 132,
   "id": "3bce8a7b",
   "metadata": {},
   "outputs": [
    {
     "data": {
      "text/plain": [
       "array([[ 0,  1,  6,  7],\n",
       "       [ 2,  3,  8,  9],\n",
       "       [ 4,  5, 10, 11]])"
      ]
     },
     "execution_count": 132,
     "metadata": {},
     "output_type": "execute_result"
    }
   ],
   "source": [
    "np.hstack((f,g))"
   ]
  },
  {
   "cell_type": "code",
   "execution_count": 143,
   "id": "61461932",
   "metadata": {},
   "outputs": [],
   "source": [
    "h=np.arange(30).reshape(2,15)"
   ]
  },
  {
   "cell_type": "code",
   "execution_count": 144,
   "id": "a4becc57",
   "metadata": {},
   "outputs": [
    {
     "data": {
      "text/plain": [
       "[array([[ 0,  1,  2,  3,  4],\n",
       "        [15, 16, 17, 18, 19]]),\n",
       " array([[ 5,  6,  7,  8,  9],\n",
       "        [20, 21, 22, 23, 24]]),\n",
       " array([[10, 11, 12, 13, 14],\n",
       "        [25, 26, 27, 28, 29]])]"
      ]
     },
     "execution_count": 144,
     "metadata": {},
     "output_type": "execute_result"
    }
   ],
   "source": [
    "np.hsplit(h, 3)"
   ]
  },
  {
   "cell_type": "code",
   "execution_count": 145,
   "id": "3271f7e7",
   "metadata": {},
   "outputs": [
    {
     "data": {
      "text/plain": [
       "[array([[ 0,  1,  2,  3,  4],\n",
       "        [15, 16, 17, 18, 19]]),\n",
       " array([[ 5,  6,  7,  8,  9],\n",
       "        [20, 21, 22, 23, 24]]),\n",
       " array([[10, 11, 12, 13, 14],\n",
       "        [25, 26, 27, 28, 29]])]"
      ]
     },
     "execution_count": 145,
     "metadata": {},
     "output_type": "execute_result"
    }
   ],
   "source": [
    "np.hsplit(h,3)"
   ]
  },
  {
   "cell_type": "code",
   "execution_count": 153,
   "id": "fe8c56be",
   "metadata": {},
   "outputs": [],
   "source": [
    "re=np.hsplit(h,3)"
   ]
  },
  {
   "cell_type": "code",
   "execution_count": 154,
   "id": "e723216b",
   "metadata": {},
   "outputs": [
    {
     "data": {
      "text/plain": [
       "array([[ 0,  1,  2,  3,  4],\n",
       "       [15, 16, 17, 18, 19]])"
      ]
     },
     "execution_count": 154,
     "metadata": {},
     "output_type": "execute_result"
    }
   ],
   "source": [
    "re[0]"
   ]
  },
  {
   "cell_type": "code",
   "execution_count": 155,
   "id": "eb43f290",
   "metadata": {},
   "outputs": [
    {
     "data": {
      "text/plain": [
       "array([[ 5,  6,  7,  8,  9],\n",
       "       [20, 21, 22, 23, 24]])"
      ]
     },
     "execution_count": 155,
     "metadata": {},
     "output_type": "execute_result"
    }
   ],
   "source": [
    "re[1]"
   ]
  },
  {
   "cell_type": "code",
   "execution_count": 157,
   "id": "9a06ec40",
   "metadata": {},
   "outputs": [],
   "source": [
    "re=np.hsplit(h,3)"
   ]
  },
  {
   "cell_type": "code",
   "execution_count": 158,
   "id": "9102cf2d",
   "metadata": {},
   "outputs": [
    {
     "data": {
      "text/plain": [
       "[array([[ 0,  1,  2,  3,  4],\n",
       "        [15, 16, 17, 18, 19]]),\n",
       " array([[ 5,  6,  7,  8,  9],\n",
       "        [20, 21, 22, 23, 24]]),\n",
       " array([[10, 11, 12, 13, 14],\n",
       "        [25, 26, 27, 28, 29]])]"
      ]
     },
     "execution_count": 158,
     "metadata": {},
     "output_type": "execute_result"
    }
   ],
   "source": [
    "re"
   ]
  },
  {
   "cell_type": "code",
   "execution_count": 159,
   "id": "0adc6b48",
   "metadata": {},
   "outputs": [
    {
     "data": {
      "text/plain": [
       "array([[ 0,  1,  2,  3,  4],\n",
       "       [15, 16, 17, 18, 19]])"
      ]
     },
     "execution_count": 159,
     "metadata": {},
     "output_type": "execute_result"
    }
   ],
   "source": [
    "re[0]"
   ]
  },
  {
   "cell_type": "code",
   "execution_count": 178,
   "id": "060a1605",
   "metadata": {},
   "outputs": [],
   "source": [
    "re=np.vsplit(h,2)"
   ]
  },
  {
   "cell_type": "code",
   "execution_count": 175,
   "id": "b6c31b81",
   "metadata": {},
   "outputs": [],
   "source": [
    "# resu=np.vsplit(f,2)"
   ]
  },
  {
   "cell_type": "code",
   "execution_count": 179,
   "id": "fac57ffd",
   "metadata": {},
   "outputs": [
    {
     "data": {
      "text/plain": [
       "[array([[ 0,  1,  2,  3,  4,  5,  6,  7,  8,  9, 10, 11, 12, 13, 14]]),\n",
       " array([[15, 16, 17, 18, 19, 20, 21, 22, 23, 24, 25, 26, 27, 28, 29]])]"
      ]
     },
     "execution_count": 179,
     "metadata": {},
     "output_type": "execute_result"
    }
   ],
   "source": [
    "re"
   ]
  },
  {
   "cell_type": "code",
   "execution_count": 180,
   "id": "6317d936",
   "metadata": {},
   "outputs": [
    {
     "data": {
      "text/plain": [
       "array([[ 0,  1,  2,  3,  4,  5,  6,  7,  8,  9, 10, 11, 12, 13, 14]])"
      ]
     },
     "execution_count": 180,
     "metadata": {},
     "output_type": "execute_result"
    }
   ],
   "source": [
    "re[0]"
   ]
  },
  {
   "cell_type": "code",
   "execution_count": 181,
   "id": "543b9c6d",
   "metadata": {},
   "outputs": [
    {
     "data": {
      "text/plain": [
       "array([[15, 16, 17, 18, 19, 20, 21, 22, 23, 24, 25, 26, 27, 28, 29]])"
      ]
     },
     "execution_count": 181,
     "metadata": {},
     "output_type": "execute_result"
    }
   ],
   "source": [
    "re[1]"
   ]
  },
  {
   "cell_type": "markdown",
   "id": "a44a94a7",
   "metadata": {},
   "source": [
    "# Iterate Using nditer In Numpy "
   ]
  },
  {
   "cell_type": "code",
   "execution_count": 182,
   "id": "1b164bc7",
   "metadata": {},
   "outputs": [],
   "source": [
    "j=np.arange(12).reshape(3,4)"
   ]
  },
  {
   "cell_type": "code",
   "execution_count": 183,
   "id": "672bc1f9",
   "metadata": {},
   "outputs": [
    {
     "data": {
      "text/plain": [
       "array([[ 0,  1,  2,  3],\n",
       "       [ 4,  5,  6,  7],\n",
       "       [ 8,  9, 10, 11]])"
      ]
     },
     "execution_count": 183,
     "metadata": {},
     "output_type": "execute_result"
    }
   ],
   "source": [
    "j"
   ]
  },
  {
   "cell_type": "code",
   "execution_count": 191,
   "id": "00435b52",
   "metadata": {},
   "outputs": [
    {
     "name": "stdout",
     "output_type": "stream",
     "text": [
      "0\n",
      "1\n",
      "2\n",
      "3\n",
      "4\n",
      "5\n",
      "6\n",
      "7\n",
      "8\n",
      "9\n",
      "10\n",
      "11\n"
     ]
    }
   ],
   "source": [
    "for row in j:\n",
    "    for cell in row:\n",
    "        print(cell)"
   ]
  },
  {
   "cell_type": "code",
   "execution_count": 194,
   "id": "07469cd4",
   "metadata": {},
   "outputs": [
    {
     "name": "stdout",
     "output_type": "stream",
     "text": [
      "0\n",
      "1\n",
      "2\n",
      "3\n",
      "4\n",
      "5\n",
      "6\n",
      "7\n",
      "8\n",
      "9\n",
      "10\n",
      "11\n"
     ]
    }
   ],
   "source": [
    "for cell in j.flatten():\n",
    "    print(cell)"
   ]
  },
  {
   "cell_type": "code",
   "execution_count": 198,
   "id": "a457766b",
   "metadata": {},
   "outputs": [
    {
     "name": "stdout",
     "output_type": "stream",
     "text": [
      "0\n",
      "1\n",
      "2\n",
      "3\n",
      "4\n",
      "5\n",
      "6\n",
      "7\n",
      "8\n",
      "9\n",
      "10\n",
      "11\n"
     ]
    }
   ],
   "source": [
    "for k in np.nditer(j, order=\"C\"):\n",
    "    print(k)"
   ]
  },
  {
   "cell_type": "code",
   "execution_count": 200,
   "id": "621f974e",
   "metadata": {},
   "outputs": [
    {
     "data": {
      "text/plain": [
       "array([[ 0,  1,  2,  3],\n",
       "       [ 4,  5,  6,  7],\n",
       "       [ 8,  9, 10, 11]])"
      ]
     },
     "execution_count": 200,
     "metadata": {},
     "output_type": "execute_result"
    }
   ],
   "source": [
    "j"
   ]
  },
  {
   "cell_type": "code",
   "execution_count": 201,
   "id": "087423cd",
   "metadata": {},
   "outputs": [
    {
     "name": "stdout",
     "output_type": "stream",
     "text": [
      "0\n",
      "4\n",
      "8\n",
      "1\n",
      "5\n",
      "9\n",
      "2\n",
      "6\n",
      "10\n",
      "3\n",
      "7\n",
      "11\n"
     ]
    }
   ],
   "source": [
    "for k in np.nditer(j, order=\"F\"):\n",
    "    print(k)"
   ]
  },
  {
   "cell_type": "code",
   "execution_count": 203,
   "id": "d764e021",
   "metadata": {},
   "outputs": [
    {
     "name": "stdout",
     "output_type": "stream",
     "text": [
      "[0 4 8]\n",
      "[1 5 9]\n",
      "[ 2  6 10]\n",
      "[ 3  7 11]\n"
     ]
    }
   ],
   "source": [
    "for k in np.nditer(j, order='F', flags=['external_loop']):\n",
    "    print(k)"
   ]
  },
  {
   "cell_type": "code",
   "execution_count": 207,
   "id": "5f23726b",
   "metadata": {},
   "outputs": [],
   "source": [
    "for o in np.nditer(j, order=\"F\", op_flags=['readwrite'] ):\n",
    "    o[...]=o*o"
   ]
  },
  {
   "cell_type": "code",
   "execution_count": 208,
   "id": "17fb1d0a",
   "metadata": {},
   "outputs": [
    {
     "data": {
      "text/plain": [
       "array([[  0,   1,   4,   9],\n",
       "       [ 16,  25,  36,  49],\n",
       "       [ 64,  81, 100, 121]])"
      ]
     },
     "execution_count": 208,
     "metadata": {},
     "output_type": "execute_result"
    }
   ],
   "source": [
    "j"
   ]
  },
  {
   "cell_type": "code",
   "execution_count": null,
   "id": "6f0dadc1",
   "metadata": {},
   "outputs": [],
   "source": []
  }
 ],
 "metadata": {
  "kernelspec": {
   "display_name": "Python 3",
   "language": "python",
   "name": "python3"
  },
  "language_info": {
   "codemirror_mode": {
    "name": "ipython",
    "version": 3
   },
   "file_extension": ".py",
   "mimetype": "text/x-python",
   "name": "python",
   "nbconvert_exporter": "python",
   "pygments_lexer": "ipython3",
   "version": "3.6.4rc1"
  }
 },
 "nbformat": 4,
 "nbformat_minor": 5
}
